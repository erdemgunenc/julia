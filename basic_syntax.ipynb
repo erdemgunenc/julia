{
 "cells": [
  {
   "cell_type": "code",
   "execution_count": 17,
   "source": [
    "age = 27\n",
    "e = 3.141"
   ],
   "outputs": [
    {
     "output_type": "execute_result",
     "data": {
      "text/plain": [
       "3.141"
      ]
     },
     "metadata": {},
     "execution_count": 17
    }
   ],
   "metadata": {}
  },
  {
   "cell_type": "code",
   "execution_count": 20,
   "source": [
    "typeof(age)\n",
    "println(typeof(e))\n",
    "typeof('a')"
   ],
   "outputs": [
    {
     "output_type": "stream",
     "name": "stdout",
     "text": [
      "Float64\n"
     ]
    },
    {
     "output_type": "execute_result",
     "data": {
      "text/plain": [
       "Char"
      ]
     },
     "metadata": {},
     "execution_count": 20
    }
   ],
   "metadata": {}
  },
  {
   "cell_type": "code",
   "execution_count": 16,
   "source": [
    "typeof(\"double quotes\")\n",
    "# \\sigma gives the symbol\n",
    "σ = 2.5\n",
    "println(\"σ = \", sqrt(σ))"
   ],
   "outputs": [
    {
     "output_type": "stream",
     "name": "stdout",
     "text": [
      "σ = 1.5811388300841898\n"
     ]
    }
   ],
   "metadata": {}
  },
  {
   "cell_type": "code",
   "execution_count": 29,
   "source": [
    "a, b = 10, 20\n",
    "# println('a = ', a, ' b = ', b) it doesn't work as python\n",
    "println([1, 2, 4.0])\n",
    "typeof([1, 2, 4.0]) \n",
    "# everything is type based, because of 4.0 the list is float type"
   ],
   "outputs": [
    {
     "output_type": "stream",
     "name": "stdout",
     "text": [
      "[1.0, 2.0, 4.0]\n"
     ]
    },
    {
     "output_type": "execute_result",
     "data": {
      "text/plain": [
       "Vector{Float64} (alias for Array{Float64, 1})"
      ]
     },
     "metadata": {},
     "execution_count": 29
    }
   ],
   "metadata": {}
  },
  {
   "cell_type": "code",
   "execution_count": 31,
   "source": [
    "convert(Int64, 1)\n",
    "convert(Float64, 2.4) "
   ],
   "outputs": [
    {
     "output_type": "execute_result",
     "data": {
      "text/plain": [
       "2.4"
      ]
     },
     "metadata": {},
     "execution_count": 31
    }
   ],
   "metadata": {}
  },
  {
   "cell_type": "markdown",
   "source": [
    "Boolean Operation\n"
   ],
   "metadata": {}
  },
  {
   "cell_type": "code",
   "execution_count": 36,
   "source": [
    "val_t = true\n",
    "val_f = false\n",
    "\n",
    "println(val_t && val_f)\n",
    "println(val_t || val_f)\n",
    "println(!val_t)"
   ],
   "outputs": [
    {
     "output_type": "stream",
     "name": "stdout",
     "text": [
      "false\n",
      "true\n",
      "false\n"
     ]
    }
   ],
   "metadata": {}
  },
  {
   "cell_type": "markdown",
   "source": [
    "String Operation"
   ],
   "metadata": {}
  },
  {
   "cell_type": "code",
   "execution_count": 45,
   "source": [
    "name = \"Erdem\"\n",
    "age = 27\n",
    "println(\"The admin's name is: $(name) and his age is $(age)\")\n",
    "\n",
    "#concat\n",
    "surname = \"Gunenc\"\n",
    "fullName = name * surname\n",
    "println(fullName)\n",
    "joinFullName = join([name, surname], ' ')\n",
    "println(joinFullName)\n",
    "\n"
   ],
   "outputs": [
    {
     "output_type": "stream",
     "name": "stdout",
     "text": [
      "The admin's name is: Erdem and his age is 27\n",
      "ErdemGunenc\n",
      "Erdem Gunenc\n"
     ]
    }
   ],
   "metadata": {}
  },
  {
   "cell_type": "markdown",
   "source": [],
   "metadata": {}
  }
 ],
 "metadata": {
  "orig_nbformat": 4,
  "language_info": {
   "file_extension": ".jl",
   "name": "julia",
   "mimetype": "application/julia",
   "version": "1.6.2"
  },
  "kernelspec": {
   "name": "julia-1.6",
   "display_name": "Julia 1.6.2",
   "language": "julia"
  }
 },
 "nbformat": 4,
 "nbformat_minor": 2
}